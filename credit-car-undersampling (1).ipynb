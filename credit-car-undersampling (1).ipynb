{
 "cells": [
  {
   "cell_type": "markdown",
   "id": "851d3740-48b4-442a-967e-27252065144c",
   "metadata": {},
   "source": [
    "### Usando técnica de undersampling\n",
    "Nessa técnica diminuimos a quantidade dos dados predominantes. Não é tão recomendado por ter muita perda de informações, mas para fins de estudo, vale o teste :)"
   ]
  },
  {
   "cell_type": "code",
   "execution_count": 1,
   "id": "7ab8b5fe-4012-443e-a1cd-d5b5ba8a5d61",
   "metadata": {},
   "outputs": [],
   "source": [
    "# imports necessarios \n",
    "from pyspark.sql import SparkSession\n",
    "from pyspark.ml.classification import LogisticRegression\n",
    "from pyspark.ml.classification import RandomForestClassifier, GBTClassifier, DecisionTreeClassifier\n",
    "import matplotlib.pyplot as plt\n",
    "import pandas as pd\n",
    "from pyspark.ml.feature import VectorAssembler \n",
    "from pyspark.sql.functions import col\n",
    "from pyspark.ml.evaluation import MulticlassClassificationEvaluator"
   ]
  },
  {
   "cell_type": "code",
   "execution_count": 2,
   "id": "dfc6bf7b-7fed-4fbe-ba37-7d4b3c136901",
   "metadata": {},
   "outputs": [],
   "source": [
    "spark = SparkSession.builder.appName('credit-card-undersampling').getOrCreate()"
   ]
  },
  {
   "cell_type": "code",
   "execution_count": 3,
   "id": "c27c3e63-0ac5-46f3-a79e-2104b0a55df3",
   "metadata": {},
   "outputs": [],
   "source": [
    "df = spark.read.csv('datasets/creditcard.csv', inferSchema=True, header=True)"
   ]
  },
  {
   "cell_type": "code",
   "execution_count": 4,
   "id": "5fb984cc-417d-4bbe-aa9f-72ff08851e20",
   "metadata": {},
   "outputs": [],
   "source": [
    "# usaremos a função sample do proprio pyspark que retorna subconjuntos de amostras do dataset \n",
    "major_df2 = df.filter(col(\"Class\") == 0)\n",
    "minor_df2 = df.filter(col(\"Class\") == 1)\n",
    "ratio2 = int(major_df2.count()/minor_df2.count())\n",
    "sampled_maj_df = major_df2.sample(False, 1/ratio2) # no caso de oversampling a gente multiplica, aqui nos dividimos para diminuir a quantidade de dados \n",
    "comb_df = sampled_maj_df.unionAll(minor_df2)\n"
   ]
  },
  {
   "cell_type": "code",
   "execution_count": 5,
   "id": "e208bf87-0627-418a-8909-52c2ae322d18",
   "metadata": {},
   "outputs": [
    {
     "data": {
      "image/png": "[encoded data removed]",
      "text/plain": [
       "<Figure size 600x600 with 1 Axes>"
      ]
     },
     "metadata": {},
     "output_type": "display_data"
    }
   ],
   "source": [
    "class_counts = comb_df.groupBy(\"Class\").count().toPandas()\n",
    "plt.figure(figsize=(6, 6))\n",
    "plt.pie(class_counts['count'], labels=class_counts['Class'], autopct='%1.1f%%', startangle=90, colors=['#66c2a5', '#fc8d62'])\n",
    "plt.title(\"Distribuição de Classes - undersampling (0 e 1)\")\n",
    "plt.show()"
   ]
  },
  {
   "cell_type": "code",
   "execution_count": 27,
   "id": "8e1423c5-59b0-4dad-8b48-3e737b69f7c3",
   "metadata": {},
   "outputs": [
    {
     "name": "stdout",
     "output_type": "stream",
     "text": [
      "+-----+-----+\n",
      "|Class|count|\n",
      "+-----+-----+\n",
      "|    0|  503|\n",
      "|    1|  492|\n",
      "+-----+-----+\n",
      "\n"
     ]
    }
   ],
   "source": [
    "counts = comb_df.groupBy('Class').count()\n",
    "counts.show()"
   ]
  },
  {
   "cell_type": "markdown",
   "id": "d24dbf4c-7f2c-43c6-8305-0ec5b65219e0",
   "metadata": {},
   "source": [
    "### Transformação dos dados em vetores para poder colocar no modelo"
   ]
  },
  {
   "cell_type": "code",
   "execution_count": 6,
   "id": "71e5a037-59c9-485e-9e18-a6d78f8fb88b",
   "metadata": {},
   "outputs": [
    {
     "name": "stdout",
     "output_type": "stream",
     "text": [
      "+--------------------+-----+\n",
      "|            features|Class|\n",
      "+--------------------+-----+\n",
      "|[333.0,-1.6859867...|    0|\n",
      "|[426.0,-0.4241260...|    0|\n",
      "|[890.0,-0.4911092...|    0|\n",
      "|[926.0,0.82999787...|    0|\n",
      "|[1805.0,-1.992552...|    0|\n",
      "|[2571.0,-0.616636...|    0|\n",
      "|[2794.0,-0.668830...|    0|\n",
      "|[5301.0,1.2011734...|    0|\n",
      "|[5325.0,-0.624492...|    0|\n",
      "|[6536.0,1.2568917...|    0|\n",
      "|[7071.0,1.1534035...|    0|\n",
      "|[8177.0,-0.610306...|    0|\n",
      "|[9029.0,-0.864906...|    0|\n",
      "|[9549.0,-1.068555...|    0|\n",
      "|[11004.0,1.226029...|    0|\n",
      "|[11345.0,1.249604...|    0|\n",
      "|[14459.0,1.147235...|    0|\n",
      "|[14489.0,-0.41117...|    0|\n",
      "|[17439.0,1.097525...|    0|\n",
      "|[17997.0,-1.01414...|    0|\n",
      "+--------------------+-----+\n",
      "only showing top 20 rows\n",
      "\n"
     ]
    }
   ],
   "source": [
    "# transformando em vetores para poder colocar no modelo depois \n",
    "assembler_under = VectorAssembler(inputCols=['Time', 'V1', 'V2', 'V3', 'V4', 'V5', 'V6', 'V7', 'V8', 'V9', 'V10', 'V11', 'V12', 'V13', 'V14', 'V15', 'V16', 'V17', 'V18', 'V19', 'V20', 'V21', 'V22', 'V23', 'V24', 'V25', 'V26', 'V27', 'V28', 'Amount'], outputCol='features')\n",
    "output_under = assembler_under.transform(comb_df)\n",
    "under_data = output_under.select('features', 'Class')\n",
    "under_data.show()"
   ]
  },
  {
   "cell_type": "code",
   "execution_count": 7,
   "id": "942412e5-ee4d-42b3-9184-2afe6f6c47c3",
   "metadata": {},
   "outputs": [],
   "source": [
    "# dividindo em conjunto de treino e teste \n",
    "train_under, test_under = under_data.randomSplit([0.7, 0.3])"
   ]
  },
  {
   "cell_type": "markdown",
   "id": "b556502c-2add-41fa-bd5a-f432e457cc35",
   "metadata": {},
   "source": [
    "### Criação e treinamento dos modelos"
   ]
  },
  {
   "cell_type": "code",
   "execution_count": 8,
   "id": "df509e9c-f326-4622-92e7-0dfca064fa12",
   "metadata": {
    "scrolled": true
   },
   "outputs": [
    {
     "name": "stdout",
     "output_type": "stream",
     "text": [
      "+-------+------------------+------------------+\n",
      "|summary|             Class|        prediction|\n",
      "+-------+------------------+------------------+\n",
      "|  count|               710|               710|\n",
      "|   mean|0.4859154929577465|0.4647887323943662|\n",
      "| stddev|0.5001539324819102| 0.499110235554576|\n",
      "|    min|               0.0|               0.0|\n",
      "|    max|               1.0|               1.0|\n",
      "+-------+------------------+------------------+\n",
      "\n"
     ]
    }
   ],
   "source": [
    "# aplicando no modelo \n",
    "# usando logistic regression primeiro \n",
    "lr_under = LogisticRegression(labelCol='Class')\n",
    "\n",
    "# fit the model \n",
    "lr_fitted_under = lr_under.fit(train_under) \n",
    "lr_sum_under = lr_fitted_under.summary\n",
    "training_lr_under = lr_sum_under.predictions.describe().show()"
   ]
  },
  {
   "cell_type": "code",
   "execution_count": 9,
   "id": "b87ba7bb-8660-413a-98e7-4a5af6f69a7f",
   "metadata": {},
   "outputs": [],
   "source": [
    "results_under = lr_fitted_under.transform(test_under) # retorna uma coluna nova com predicoes "
   ]
  },
  {
   "cell_type": "code",
   "execution_count": 10,
   "id": "f16603a5-8dbc-4e6f-959a-23d1b899993d",
   "metadata": {},
   "outputs": [
    {
     "name": "stdout",
     "output_type": "stream",
     "text": [
      "+--------------------+-----+--------------------+--------------------+----------+\n",
      "|            features|Class|       rawPrediction|         probability|prediction|\n",
      "+--------------------+-----+--------------------+--------------------+----------+\n",
      "|[426.0,-0.4241260...|    0|[1.76071689278444...|[0.85329942322264...|       0.0|\n",
      "|[2571.0,-0.616636...|    0|[1.86730619002071...|[0.86614627339832...|       0.0|\n",
      "|[9549.0,-1.068555...|    0|[3.31624627419267...|[0.96498196758970...|       0.0|\n",
      "|[11004.0,1.226029...|    0|[3.17960702892773...|[0.96005960023082...|       0.0|\n",
      "|[11345.0,1.249604...|    0|[2.34295868898345...|[0.91237291692753...|       0.0|\n",
      "|[14489.0,-0.41117...|    0|[107.623413786305...|           [1.0,0.0]|       0.0|\n",
      "|[18612.0,-0.65807...|    0|[3.08042776445211...|[0.95607815110164...|       0.0|\n",
      "|[19615.0,-1.56714...|    0|[2.12236751017495...|[0.89305824957649...|       0.0|\n",
      "|[20932.0,1.278205...|    0|[4.00153540110709...|[0.98204088931550...|       0.0|\n",
      "|[21689.0,1.185023...|    0|[3.61051997068510...|[0.97367401203030...|       0.0|\n",
      "|[25729.0,1.431752...|    0|[108.326331817402...|           [1.0,0.0]|       0.0|\n",
      "|[27816.0,0.324243...|    0|[2.44679713939236...|[0.92032691609613...|       0.0|\n",
      "|[29298.0,-1.45844...|    0|[4.41346949671028...|[0.98803189159070...|       0.0|\n",
      "|[30232.0,1.006991...|    0|[2.75780402426009...|[0.94035258165575...|       0.0|\n",
      "|[30592.0,-1.88013...|    0|[2.09804378225468...|[0.89071289935366...|       0.0|\n",
      "|[32657.0,1.257495...|    0|[3.08182707837890...|[0.95613687461296...|       0.0|\n",
      "|[34515.0,-0.01990...|    0|[-3.5089087482345...|[0.02905981005483...|       1.0|\n",
      "|[35984.0,1.215468...|    0|[2.87543571802470...|[0.94661869207691...|       0.0|\n",
      "|[36607.0,1.320434...|    0|[107.897858296318...|           [1.0,0.0]|       0.0|\n",
      "|[36937.0,1.129496...|    0|[2.02649910641076...|[0.88355136013816...|       0.0|\n",
      "+--------------------+-----+--------------------+--------------------+----------+\n",
      "only showing top 20 rows\n",
      "\n"
     ]
    }
   ],
   "source": [
    "results_under.show()"
   ]
  },
  {
   "cell_type": "code",
   "execution_count": 13,
   "id": "39134c65-e400-4488-9e14-e5f25baf5c57",
   "metadata": {},
   "outputs": [],
   "source": [
    "# usando outros metodos de classificacao \n",
    " \n",
    "rfc = RandomForestClassifier(labelCol='Class', featuresCol='features', numTrees=100)\n",
    "dtc = DecisionTreeClassifier(labelCol='Class', featuresCol='features')\n",
    "gbt = GBTClassifier(labelCol='Class', featuresCol='features')\n"
   ]
  },
  {
   "cell_type": "code",
   "execution_count": 14,
   "id": "f5a35378-3a84-40d6-89c4-0d79d2eccf2d",
   "metadata": {},
   "outputs": [],
   "source": [
    "# treinando os modelos \n",
    "\n",
    "rfc_train = rfc.fit(train_under)\n",
    "dtc_train = dtc.fit(train_under)\n",
    "gbt_train = gbt.fit(train_under)"
   ]
  },
  {
   "cell_type": "code",
   "execution_count": 15,
   "id": "61a3ebb3-1d45-48b0-85b6-1c44e2c491c4",
   "metadata": {},
   "outputs": [],
   "source": [
    "# previsoes \n",
    "\n",
    "rfc_preds = rfc_train.transform(test_under)\n",
    "dtc_preds = dtc_train.transform(test_under)\n",
    "gbt_preds = gbt_train.transform(test_under)"
   ]
  },
  {
   "cell_type": "markdown",
   "id": "9aab5286-8cff-4cfe-9669-1f9fe78515dd",
   "metadata": {},
   "source": [
    "### Avaliação das métricas de cada modelo"
   ]
  },
  {
   "cell_type": "code",
   "execution_count": 29,
   "id": "13af08ab-61a4-4913-bbd1-a7be3d69cf7b",
   "metadata": {},
   "outputs": [
    {
     "name": "stdout",
     "output_type": "stream",
     "text": [
      "Acurácia LR: 0.9403508771929825\n",
      "Recall LR: 0.9637681159420289\n"
     ]
    }
   ],
   "source": [
    "# avaliando metricas do modelo \n",
    "eval = MulticlassClassificationEvaluator(labelCol='Class', predictionCol='prediction', metricName='accuracy')\n",
    "acc = eval.evaluate(results_under)\n",
    "print(f'Acurácia LR: {acc}')\n",
    "\n",
    "eval = MulticlassClassificationEvaluator(labelCol='Class', predictionCol='prediction', metricName='recallByLabel')\n",
    "recall = eval.evaluate(results_under)\n",
    "print(f'Recall LR: {recall}')\n"
   ]
  },
  {
   "cell_type": "markdown",
   "id": "a7c3b314-cd7f-452e-9bdf-dcd9110e2dc2",
   "metadata": {},
   "source": [
    "Random Forest"
   ]
  },
  {
   "cell_type": "code",
   "execution_count": 22,
   "id": "495395db-8596-4483-95d6-1386dfbce543",
   "metadata": {},
   "outputs": [
    {
     "name": "stdout",
     "output_type": "stream",
     "text": [
      "Acurácia: 0.9927536231884058\n",
      "Recall: 0.9927536231884058\n"
     ]
    }
   ],
   "source": [
    "# metricas de cada modelo \n",
    "acc_rfc = eval.evaluate(rfc_preds)\n",
    "print(f'Acurácia: {acc_rfc}')\n",
    "\n",
    "evaluator = MulticlassClassificationEvaluator(labelCol=\"Class\", predictionCol=\"prediction\", metricName=\"recallByLabel\")\n",
    "recall = evaluator.evaluate(rfc_preds)\n",
    "print(f\"Recall: {recall}\")"
   ]
  },
  {
   "cell_type": "markdown",
   "id": "271674a3-d168-4a84-bc18-10866e991e76",
   "metadata": {},
   "source": [
    "Decision Tree"
   ]
  },
  {
   "cell_type": "code",
   "execution_count": 24,
   "id": "ee2e0516-1970-4f84-9884-dff0376e2573",
   "metadata": {},
   "outputs": [
    {
     "name": "stdout",
     "output_type": "stream",
     "text": [
      "Acurácia: 0.9130434782608695\n",
      "Recall: 0.9130434782608695\n"
     ]
    }
   ],
   "source": [
    "\n",
    "acc_dtc = eval.evaluate(dtc_preds)\n",
    "print(f'Acurácia: {acc_dtc}')\n",
    "\n",
    "evaluator = MulticlassClassificationEvaluator(labelCol=\"Class\", predictionCol=\"prediction\", metricName=\"recallByLabel\")\n",
    "recall = evaluator.evaluate(dtc_preds)\n",
    "print(f\"Recall: {recall}\")"
   ]
  },
  {
   "cell_type": "markdown",
   "id": "f33cdae4-af61-4494-bd65-9bff2447a705",
   "metadata": {},
   "source": [
    "Gradient Boosting"
   ]
  },
  {
   "cell_type": "code",
   "execution_count": 26,
   "id": "458120cd-8ca4-4ea8-bea9-5e15cbdf09e9",
   "metadata": {},
   "outputs": [
    {
     "name": "stdout",
     "output_type": "stream",
     "text": [
      "Acurácia: 0.9130434782608695\n",
      "Recall: 0.9130434782608695\n"
     ]
    }
   ],
   "source": [
    "acc_gbt = eval.evaluate(gbt_preds)\n",
    "print(f'Acurácia: {acc_gbt}')\n",
    "\n",
    "evaluator = MulticlassClassificationEvaluator(labelCol=\"Class\", predictionCol=\"prediction\", metricName=\"recallByLabel\")\n",
    "recall = evaluator.evaluate(gbt_preds)\n",
    "print(f\"Recall: {recall}\")"
   ]
  },
  {
   "cell_type": "markdown",
   "id": "52eec771-0d86-4801-b985-6a1551cd476b",
   "metadata": {},
   "source": [
    "O undersampling também pode levar ao overfitting, uma vez que a base de dados pode ter ficado muito pequena (no caso ficamos com 500 amostrar de cada classe). A frequência fica a mesma, mas a distribuição dos dados pode afetar no modelo e avaliando as métricas, todos estão com acurácia maior que 90%,a tingindo até 99% - no caso do random forest."
   ]
  },
  {
   "cell_type": "code",
   "execution_count": null,
   "id": "1d4d656d-7756-4482-b44b-7cf7f6928b0b",
   "metadata": {},
   "outputs": [],
   "source": []
  }
 ],
 "metadata": {
  "kernelspec": {
   "display_name": "Python 3 (ipykernel)",
   "language": "python",
   "name": "python3"
  },
  "language_info": {
   "codemirror_mode": {
    "name": "ipython",
    "version": 3
   },
   "file_extension": ".py",
   "mimetype": "text/x-python",
   "name": "python",
   "nbconvert_exporter": "python",
   "pygments_lexer": "ipython3",
   "version": "3.11.6"
  }
 },
 "nbformat": 4,
 "nbformat_minor": 5
}
