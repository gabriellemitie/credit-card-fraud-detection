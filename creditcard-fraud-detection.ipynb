{
 "cells": [
  {
   "cell_type": "markdown",
   "id": "a85a4922-5294-44dd-ade2-9fadbf4c15ac",
   "metadata": {},
   "source": [
    "### Projeto de spark  \n",
    "\n",
    "- dataset usado: credit card fraud dettection\n",
    "- focado em tratar o problema de dados desbalanceados -> material usado: https://medium.com/@junwan01/oversampling-and-undersampling-with-pyspark-5dbc25cdf253"
   ]
  },
  {
   "cell_type": "code",
   "execution_count": 52,
   "id": "baa047a4-24ab-44f7-9c11-7114f992b697",
   "metadata": {},
   "outputs": [],
   "source": [
    "# imports necessarios \n",
    "from pyspark.sql import SparkSession\n",
    "from pyspark.ml.classification import LogisticRegression\n",
    "from pyspark.ml.classification import RandomForestClassifier, GBTClassifier, DecisionTreeClassifier\n",
    "import matplotlib.pyplot as plt\n",
    "import pandas as pd\n",
    "from pyspark.ml.feature import VectorAssembler "
   ]
  },
  {
   "cell_type": "code",
   "execution_count": 53,
   "id": "979ca098-d3c8-4c17-a68e-83cc0bb7b269",
   "metadata": {},
   "outputs": [],
   "source": [
    "# criando sessao no spark \n",
    "spark = SparkSession.builder.appName('credit-card').getOrCreate()"
   ]
  },
  {
   "cell_type": "code",
   "execution_count": 54,
   "id": "efab8da1-9b3c-4ab7-986f-7d476665401d",
   "metadata": {},
   "outputs": [],
   "source": [
    "# carregando o dataset \n",
    "df = spark.read.csv('datasets/creditcard.csv', inferSchema=True, header=True)"
   ]
  },
  {
   "cell_type": "code",
   "execution_count": 55,
   "id": "d0d05d15-6b6b-4a28-a8b5-d664cb958360",
   "metadata": {},
   "outputs": [
    {
     "name": "stdout",
     "output_type": "stream",
     "text": [
      "+-------+-----------------+--------------------+--------------------+--------------------+--------------------+--------------------+--------------------+--------------------+--------------------+--------------------+--------------------+--------------------+--------------------+--------------------+--------------------+--------------------+--------------------+--------------------+--------------------+--------------------+-------------------+--------------------+--------------------+--------------------+--------------------+--------------------+--------------------+--------------------+--------------------+------------------+--------------------+\n",
      "|summary|             Time|                  V1|                  V2|                  V3|                  V4|                  V5|                  V6|                  V7|                  V8|                  V9|                 V10|                 V11|                 V12|                 V13|                 V14|                 V15|                 V16|                 V17|                 V18|                 V19|                V20|                 V21|                 V22|                 V23|                 V24|                 V25|                 V26|                 V27|                 V28|            Amount|               Class|\n",
      "+-------+-----------------+--------------------+--------------------+--------------------+--------------------+--------------------+--------------------+--------------------+--------------------+--------------------+--------------------+--------------------+--------------------+--------------------+--------------------+--------------------+--------------------+--------------------+--------------------+--------------------+-------------------+--------------------+--------------------+--------------------+--------------------+--------------------+--------------------+--------------------+--------------------+------------------+--------------------+\n",
      "|  count|           284807|              284807|              284807|              284807|              284807|              284807|              284807|              284807|              284807|              284807|              284807|              284807|              284807|              284807|              284807|              284807|              284807|              284807|              284807|              284807|             284807|              284807|              284807|              284807|              284807|              284807|              284807|              284807|              284807|            284807|              284807|\n",
      "|   mean|94813.85957508067|2.312001334530401...|3.001769688478698...|1.647779956654264...|1.583912516473866...|-8.43050210381251...|1.580719144464846...|-5.84387077650640...|-1.52882684931827...|-3.04088849558919...|2.135168359530925...|1.424243916022871...|-2.73671981173004...|1.682907048753482...|1.223061479454618...|4.71022371330434E-15|1.487313013201014...|-4.40685337244745...|1.117680203156962...|1.032257501915679...|5.8917713566417E-16|2.770250217824756...|-8.31873408349681...|2.490830167035515...|4.465631375988472...|3.448841769741482...|1.614049964808991...|-3.77915618692447...|-1.24741094102339...| 88.34961925094233|0.001727485630620034|\n",
      "| stddev|47488.14595456595|  1.9586958038574855|  1.6513085794769953|  1.5162550051777728|  1.4158685749409223|   1.380246734031438|   1.332271089757576|  1.2370935981826678|  1.1943529026692048|  1.0986320892243184|  1.0888497654025182|   1.020713027711558|  0.9992013895301414|  0.9952742301251524|  0.9585956112570646|  0.9153160116104389|   0.876252887388369|   0.849337063674389|  0.8381762095288418|  0.8140405007685785| 0.7709250248871188|   0.734524014371313|  0.7257015604409108|  0.6244602955949896|  0.6056470678271609|  0.5212780705409429| 0.48222701326105755| 0.40363249496503156| 0.33008326416025063|250.12010924018833| 0.04152718963546499|\n",
      "|    min|              0.0|    -56.407509631329|   -72.7157275629303|   -48.3255893623954|   -5.68317119816995|   -113.743306711146|   -26.1605059358433|   -43.5572415712451|   -73.2167184552674|   -13.4340663182301|   -24.5882624372475|   -4.79747346479757|   -18.6837146333443|   -5.79188120632084|   -19.2143254902614|   -4.49894467676621|   -14.1298545174931|   -25.1627993693248|   -9.49874592104677|   -7.21352743017759|   -54.497720494566|   -34.8303821448146|    -10.933143697655|   -44.8077352037913|   -2.83662691870341|   -10.2953970749851|   -2.60455055280817|   -22.5656793207827|   -15.4300839055349|               0.0|                   0|\n",
      "|    max|         172792.0|    2.45492999121121|    22.0577289904909|    9.38255843282114|    16.8753440335975|    34.8016658766686|    73.3016255459646|    120.589493945238|    20.0072083651213|    15.5949946071278|    23.7451361206545|    12.0189131816199|     7.8483920756446|    7.12688295859376|    10.5267660517847|    8.87774159774277|    17.3151115176278|    9.25352625047285|    5.04106918541184|    5.59197142733558|   39.4209042482199|    27.2028391573154|    10.5030900899454|    22.5284116897749|    4.58454913689817|    7.51958867870916|     3.5173456116238|    31.6121981061363|    33.8478078188831|          25691.16|                   1|\n",
      "+-------+-----------------+--------------------+--------------------+--------------------+--------------------+--------------------+--------------------+--------------------+--------------------+--------------------+--------------------+--------------------+--------------------+--------------------+--------------------+--------------------+--------------------+--------------------+--------------------+--------------------+-------------------+--------------------+--------------------+--------------------+--------------------+--------------------+--------------------+--------------------+--------------------+------------------+--------------------+\n",
      "\n"
     ]
    }
   ],
   "source": [
    "df.describe().show()"
   ]
  },
  {
   "cell_type": "code",
   "execution_count": 56,
   "id": "dc91da24-b63f-4ab6-acb2-128f0e974536",
   "metadata": {},
   "outputs": [
    {
     "name": "stdout",
     "output_type": "stream",
     "text": [
      "root\n",
      " |-- Time: double (nullable = true)\n",
      " |-- V1: double (nullable = true)\n",
      " |-- V2: double (nullable = true)\n",
      " |-- V3: double (nullable = true)\n",
      " |-- V4: double (nullable = true)\n",
      " |-- V5: double (nullable = true)\n",
      " |-- V6: double (nullable = true)\n",
      " |-- V7: double (nullable = true)\n",
      " |-- V8: double (nullable = true)\n",
      " |-- V9: double (nullable = true)\n",
      " |-- V10: double (nullable = true)\n",
      " |-- V11: double (nullable = true)\n",
      " |-- V12: double (nullable = true)\n",
      " |-- V13: double (nullable = true)\n",
      " |-- V14: double (nullable = true)\n",
      " |-- V15: double (nullable = true)\n",
      " |-- V16: double (nullable = true)\n",
      " |-- V17: double (nullable = true)\n",
      " |-- V18: double (nullable = true)\n",
      " |-- V19: double (nullable = true)\n",
      " |-- V20: double (nullable = true)\n",
      " |-- V21: double (nullable = true)\n",
      " |-- V22: double (nullable = true)\n",
      " |-- V23: double (nullable = true)\n",
      " |-- V24: double (nullable = true)\n",
      " |-- V25: double (nullable = true)\n",
      " |-- V26: double (nullable = true)\n",
      " |-- V27: double (nullable = true)\n",
      " |-- V28: double (nullable = true)\n",
      " |-- Amount: double (nullable = true)\n",
      " |-- Class: integer (nullable = true)\n",
      "\n"
     ]
    }
   ],
   "source": [
    "df.printSchema()"
   ]
  },
  {
   "cell_type": "code",
   "execution_count": 57,
   "id": "b062e39f-727f-402f-9f59-39adbbc6e98b",
   "metadata": {},
   "outputs": [
    {
     "data": {
      "text/plain": [
       "['Time',\n",
       " 'V1',\n",
       " 'V2',\n",
       " 'V3',\n",
       " 'V4',\n",
       " 'V5',\n",
       " 'V6',\n",
       " 'V7',\n",
       " 'V8',\n",
       " 'V9',\n",
       " 'V10',\n",
       " 'V11',\n",
       " 'V12',\n",
       " 'V13',\n",
       " 'V14',\n",
       " 'V15',\n",
       " 'V16',\n",
       " 'V17',\n",
       " 'V18',\n",
       " 'V19',\n",
       " 'V20',\n",
       " 'V21',\n",
       " 'V22',\n",
       " 'V23',\n",
       " 'V24',\n",
       " 'V25',\n",
       " 'V26',\n",
       " 'V27',\n",
       " 'V28',\n",
       " 'Amount',\n",
       " 'Class']"
      ]
     },
     "execution_count": 57,
     "metadata": {},
     "output_type": "execute_result"
    }
   ],
   "source": [
    "df.columns"
   ]
  },
  {
   "cell_type": "code",
   "execution_count": 58,
   "id": "c7f59b28-0c84-40cb-9d72-99e9bc78bc08",
   "metadata": {},
   "outputs": [
    {
     "name": "stdout",
     "output_type": "stream",
     "text": [
      "+----+------+-----+\n",
      "|Time|Amount|Class|\n",
      "+----+------+-----+\n",
      "| 0.0|149.62|    0|\n",
      "| 0.0|  2.69|    0|\n",
      "| 1.0|378.66|    0|\n",
      "| 1.0| 123.5|    0|\n",
      "| 2.0| 69.99|    0|\n",
      "| 2.0|  3.67|    0|\n",
      "| 4.0|  4.99|    0|\n",
      "| 7.0|  40.8|    0|\n",
      "| 7.0|  93.2|    0|\n",
      "| 9.0|  3.68|    0|\n",
      "|10.0|   7.8|    0|\n",
      "|10.0|  9.99|    0|\n",
      "|10.0| 121.5|    0|\n",
      "|11.0|  27.5|    0|\n",
      "|12.0|  58.8|    0|\n",
      "|12.0| 15.99|    0|\n",
      "|12.0| 12.99|    0|\n",
      "|13.0|  0.89|    0|\n",
      "|14.0|  46.8|    0|\n",
      "|15.0|   5.0|    0|\n",
      "+----+------+-----+\n",
      "only showing top 20 rows\n",
      "\n"
     ]
    }
   ],
   "source": [
    "# visualização de algumas colunas \n",
    "cols = df.select(['Time', 'Amount', 'Class'])\n",
    "cols.show()"
   ]
  },
  {
   "cell_type": "code",
   "execution_count": 59,
   "id": "d2183b0c-d184-4626-a296-d8aae1919e92",
   "metadata": {},
   "outputs": [
    {
     "name": "stdout",
     "output_type": "stream",
     "text": [
      "+-----+------+\n",
      "|Class| count|\n",
      "+-----+------+\n",
      "|    1|   492|\n",
      "|    0|284315|\n",
      "+-----+------+\n",
      "\n"
     ]
    }
   ],
   "source": [
    "# analisando quantidade de transacoes fraudulentas ou nao (0 -> comum,  1->fraudulenta)\n",
    "counts = df.groupBy('Class').count()\n",
    "counts.show()\n"
   ]
  },
  {
   "cell_type": "code",
   "execution_count": 60,
   "id": "aa72a823-ea4f-470a-b165-074ed1cf162c",
   "metadata": {},
   "outputs": [
    {
     "data": {
      "image/png": "[encoded data removed]",
      "text/plain": [
       "<Figure size 600x600 with 1 Axes>"
      ]
     },
     "metadata": {},
     "output_type": "display_data"
    }
   ],
   "source": [
    "# visualização da distribuição dos dados \n",
    "class_counts = df.groupBy(\"Class\").count().toPandas()\n",
    "plt.figure(figsize=(6, 6))\n",
    "plt.pie(class_counts['count'], labels=class_counts['Class'], autopct='%1.1f%%', startangle=90, colors=['#66c2a5', '#fc8d62'])\n",
    "plt.title(\"Distribuição de Classes (0 e 1)\")\n",
    "plt.show()"
   ]
  },
  {
   "cell_type": "markdown",
   "id": "3b5430ca-8bfb-404d-bfac-187e54c068cd",
   "metadata": {},
   "source": [
    "É possível perceber que a base de dados está desbalanceada, tem muito mais transações comuns do que fraudulentas."
   ]
  },
  {
   "cell_type": "markdown",
   "id": "783ffca2-cb36-4aad-96bc-b8cb1aec8e4a",
   "metadata": {},
   "source": [
    "### Transformação dos dados para poder usar nos modelos "
   ]
  },
  {
   "cell_type": "markdown",
   "id": "07780635-4fdd-4e65-a737-7dc25686cdf4",
   "metadata": {},
   "source": [
    "Fazendo a transformação em vesctor para poder dividir e depois jogar no modelo\n"
   ]
  },
  {
   "cell_type": "code",
   "execution_count": 61,
   "id": "f355eac5-e9a4-410e-88f0-1d19f48060f9",
   "metadata": {},
   "outputs": [],
   "source": [
    "assembler = VectorAssembler(inputCols=['Time', 'V1', 'V2', 'V3', 'V4', 'V5', 'V6', 'V7', 'V8', 'V9', 'V10', 'V11', 'V12', 'V13', 'V14', 'V15', 'V16', 'V17', 'V18', 'V19', 'V20', 'V21', 'V22', 'V23', 'V24', 'V25', 'V26', 'V27', 'V28', 'Amount'], outputCol='features')"
   ]
  },
  {
   "cell_type": "code",
   "execution_count": 62,
   "id": "53f8eb45-d196-411a-be14-d78530051468",
   "metadata": {},
   "outputs": [],
   "source": [
    "output = assembler.transform(df)"
   ]
  },
  {
   "cell_type": "code",
   "execution_count": 63,
   "id": "e786f394-b6af-4623-bcab-96ce43991d0a",
   "metadata": {},
   "outputs": [],
   "source": [
    "final_data = output.select('features', 'Class')"
   ]
  },
  {
   "cell_type": "code",
   "execution_count": 64,
   "id": "6083edcf-9ea3-442e-958f-3b9a2f6faa80",
   "metadata": {},
   "outputs": [
    {
     "name": "stdout",
     "output_type": "stream",
     "text": [
      "+--------------------+-----+\n",
      "|            features|Class|\n",
      "+--------------------+-----+\n",
      "|[0.0,-1.359807133...|    0|\n",
      "|[0.0,1.1918571113...|    0|\n",
      "|[1.0,-1.358354061...|    0|\n",
      "|[1.0,-0.966271711...|    0|\n",
      "|[2.0,-1.158233093...|    0|\n",
      "|[2.0,-0.425965884...|    0|\n",
      "|[4.0,1.2296576345...|    0|\n",
      "|[7.0,-0.644269442...|    0|\n",
      "|[7.0,-0.894286082...|    0|\n",
      "|[9.0,-0.338261752...|    0|\n",
      "|[10.0,1.449043781...|    0|\n",
      "|[10.0,0.384978215...|    0|\n",
      "|[10.0,1.249998742...|    0|\n",
      "|[11.0,1.069373587...|    0|\n",
      "|[12.0,-2.79185476...|    0|\n",
      "|[12.0,-0.75241704...|    0|\n",
      "|[12.0,1.103215435...|    0|\n",
      "|[13.0,-0.43690507...|    0|\n",
      "|[14.0,-5.40125766...|    0|\n",
      "|[15.0,1.492935976...|    0|\n",
      "+--------------------+-----+\n",
      "only showing top 20 rows\n",
      "\n"
     ]
    }
   ],
   "source": [
    "final_data.show()"
   ]
  },
  {
   "cell_type": "code",
   "execution_count": 65,
   "id": "9d49535a-4498-4ea4-9c91-326424fc31dd",
   "metadata": {},
   "outputs": [],
   "source": [
    "# dividindo em conjunto de treino e teste \n",
    "train, test = final_data.randomSplit([0.7, 0.3])"
   ]
  },
  {
   "cell_type": "code",
   "execution_count": 66,
   "id": "7dc016ca-f0c3-4715-a20b-5ead6bef69f4",
   "metadata": {},
   "outputs": [
    {
     "name": "stdout",
     "output_type": "stream",
     "text": [
      "+-----+-----+\n",
      "|Class|count|\n",
      "+-----+-----+\n",
      "|    1|  146|\n",
      "|    0|85080|\n",
      "+-----+-----+\n",
      "\n"
     ]
    }
   ],
   "source": [
    "test.groupBy('Class').count().show()"
   ]
  },
  {
   "cell_type": "code",
   "execution_count": 67,
   "id": "0c5ef901-f581-4c2b-9c76-7d9f558407ab",
   "metadata": {},
   "outputs": [
    {
     "name": "stdout",
     "output_type": "stream",
     "text": [
      "+-----+------+\n",
      "|Class| count|\n",
      "+-----+------+\n",
      "|    1|   346|\n",
      "|    0|199235|\n",
      "+-----+------+\n",
      "\n"
     ]
    }
   ],
   "source": [
    "train.groupBy('Class').count().show()"
   ]
  },
  {
   "cell_type": "markdown",
   "id": "13005924-a8a8-46fc-94e4-8524d74ff0db",
   "metadata": {},
   "source": [
    "Dados muito desbalanceados podem afetar a acurácia do modelo, existem técnicas para tratar o desbalanceamento. Oversampling, undersampling, smote. "
   ]
  },
  {
   "cell_type": "markdown",
   "id": "6973d7ce-4dba-4a0a-ba22-e61fed971a9a",
   "metadata": {},
   "source": [
    "### Criação e treinamento dos modelos"
   ]
  },
  {
   "cell_type": "code",
   "execution_count": 68,
   "id": "829fd0ff-b689-4eeb-8e82-7aa83355e759",
   "metadata": {},
   "outputs": [],
   "source": [
    "# testando acurácia sem usar nenhuma tecnica para tratamento de dados desbalanceados \n",
    "from pyspark.ml.classification import LogisticRegression\n"
   ]
  },
  {
   "cell_type": "code",
   "execution_count": 69,
   "id": "338bc0af-db70-42e6-8311-06808edc9a47",
   "metadata": {},
   "outputs": [],
   "source": [
    "lr_class = LogisticRegression(labelCol='Class')"
   ]
  },
  {
   "cell_type": "code",
   "execution_count": 70,
   "id": "1aa849ca-e82d-4cf9-92d7-229c6508105e",
   "metadata": {},
   "outputs": [],
   "source": [
    "fit_class = lr_class.fit(train)"
   ]
  },
  {
   "cell_type": "code",
   "execution_count": 71,
   "id": "5968c9f5-e701-4cc7-9080-2191af6be695",
   "metadata": {},
   "outputs": [],
   "source": [
    "training = fit_class.summary"
   ]
  },
  {
   "cell_type": "code",
   "execution_count": 72,
   "id": "8486ccc1-7599-441e-98e3-287c33227aaf",
   "metadata": {},
   "outputs": [
    {
     "name": "stdout",
     "output_type": "stream",
     "text": [
      "+-------+--------------------+--------------------+\n",
      "|summary|               Class|          prediction|\n",
      "+-------+--------------------+--------------------+\n",
      "|  count|              199581|              199581|\n",
      "|   mean|0.001733631958954...|0.001217550768860...|\n",
      "| stddev|0.041600903241722026| 0.03487225877575607|\n",
      "|    min|                 0.0|                 0.0|\n",
      "|    max|                 1.0|                 1.0|\n",
      "+-------+--------------------+--------------------+\n",
      "\n"
     ]
    }
   ],
   "source": [
    "training.predictions.describe().show()"
   ]
  },
  {
   "cell_type": "code",
   "execution_count": 73,
   "id": "4eb9ed3b-ec7f-4c76-9012-9a40b5a4c3ae",
   "metadata": {},
   "outputs": [],
   "source": [
    "results = fit_class.transform(test)"
   ]
  },
  {
   "cell_type": "markdown",
   "id": "b75c9a35-4f74-4ed8-aa06-a50ae2e2bace",
   "metadata": {},
   "source": [
    "###  Avaliação do modelo"
   ]
  },
  {
   "cell_type": "code",
   "execution_count": 74,
   "id": "e26e8b2b-2292-45ee-bb89-8761b5c19ec8",
   "metadata": {},
   "outputs": [],
   "source": [
    "from pyspark.ml.evaluation import MulticlassClassificationEvaluator"
   ]
  },
  {
   "cell_type": "code",
   "execution_count": 75,
   "id": "9dcc922f-454d-4418-ac80-031ed1dc5a52",
   "metadata": {},
   "outputs": [
    {
     "name": "stdout",
     "output_type": "stream",
     "text": [
      "0.9991786544012391\n"
     ]
    }
   ],
   "source": [
    "eval = MulticlassClassificationEvaluator(labelCol='Class', predictionCol='prediction', metricName='accuracy')\n",
    "acc = eval.evaluate(results)\n",
    "print(acc)"
   ]
  },
  {
   "cell_type": "markdown",
   "id": "060defab-108d-4492-abef-040cb8f658e6",
   "metadata": {},
   "source": [
    "Acurácia de 99%, um valor esperado quando se trata de dados desbalanceados, ele pode estar pegando a parcela maior de uma classe, mesmo sendo dividido em treino e teste, a classe 0 vai predominar."
   ]
  },
  {
   "cell_type": "code",
   "execution_count": 76,
   "id": "47f5bb0a-6510-4aea-9cb7-c23ea363780e",
   "metadata": {},
   "outputs": [
    {
     "name": "stdout",
     "output_type": "stream",
     "text": [
      "Recall: 0.9998001880582981\n"
     ]
    }
   ],
   "source": [
    "evaluator = MulticlassClassificationEvaluator(labelCol=\"Class\", predictionCol=\"prediction\", metricName=\"recallByLabel\")\n",
    "recall = evaluator.evaluate(results)\n",
    "print(f\"Recall: {recall}\")"
   ]
  },
  {
   "cell_type": "markdown",
   "id": "7d74a591-a191-4955-b5bd-29db227bc066",
   "metadata": {},
   "source": [
    "### Usando técnica de oversampling  \n",
    "\n",
    "A técnica consiste em aumentar o conjunto de dados não predominantes fazendo a multiplicação de dados já existentes, até chegar na mesma proporção dos dados predominantes "
   ]
  },
  {
   "cell_type": "code",
   "execution_count": 77,
   "id": "49029cc9-7b9a-44a5-908c-e43d92dc89bb",
   "metadata": {},
   "outputs": [
    {
     "name": "stdout",
     "output_type": "stream",
     "text": [
      "ratio: 577\n"
     ]
    }
   ],
   "source": [
    "# tratando a classes balanceada usando o oversampling\n",
    "from pyspark.sql.functions import col, explode, array, lit\n",
    "\n",
    "major_df = df.filter(col(\"Class\") == 0)\n",
    "minor_df = df.filter(col(\"Class\") == 1)\n",
    "ratio = int(major_df.count()/minor_df.count()) # quantidade de vezes que precisamos multiplicar cada amostra\n",
    "print(f'ratio: {ratio}')"
   ]
  },
  {
   "cell_type": "code",
   "execution_count": 78,
   "id": "5cb7ea76-42ae-489b-8da0-1c41b7d0d046",
   "metadata": {},
   "outputs": [
    {
     "name": "stdout",
     "output_type": "stream",
     "text": [
      "+----+------+-----+\n",
      "|Time|Amount|Class|\n",
      "+----+------+-----+\n",
      "| 0.0|149.62|    0|\n",
      "| 0.0|  2.69|    0|\n",
      "| 1.0|378.66|    0|\n",
      "| 1.0| 123.5|    0|\n",
      "| 2.0| 69.99|    0|\n",
      "| 2.0|  3.67|    0|\n",
      "| 4.0|  4.99|    0|\n",
      "| 7.0|  40.8|    0|\n",
      "| 7.0|  93.2|    0|\n",
      "| 9.0|  3.68|    0|\n",
      "|10.0|   7.8|    0|\n",
      "|10.0|  9.99|    0|\n",
      "|10.0| 121.5|    0|\n",
      "|11.0|  27.5|    0|\n",
      "|12.0|  58.8|    0|\n",
      "|12.0| 15.99|    0|\n",
      "|12.0| 12.99|    0|\n",
      "|13.0|  0.89|    0|\n",
      "|14.0|  46.8|    0|\n",
      "|15.0|   5.0|    0|\n",
      "+----+------+-----+\n",
      "only showing top 20 rows\n",
      "\n"
     ]
    }
   ],
   "source": [
    "a = range(ratio)\n",
    "# criando as linhas duplicadas e dropando a coluna dummy que serve de auxiliar \n",
    "oversampled_df = minor_df.withColumn(\"dummy\", explode(array([lit(x) for x in a]))).drop('dummy')\n",
    "combined_df = major_df.unionAll(oversampled_df) # combinando as amostras geradas e as que ja tinham\n",
    "combined_df.select('Time', 'Amount', 'Class').show()"
   ]
  },
  {
   "cell_type": "code",
   "execution_count": 79,
   "id": "9c0d1050-77e3-4f87-bbf0-187c0bcb0007",
   "metadata": {},
   "outputs": [
    {
     "name": "stdout",
     "output_type": "stream",
     "text": [
      "+-----+------+\n",
      "|Class| count|\n",
      "+-----+------+\n",
      "|    0|284315|\n",
      "|    1|283884|\n",
      "+-----+------+\n",
      "\n"
     ]
    }
   ],
   "source": [
    "combined_df.groupBy('Class').count().show()"
   ]
  },
  {
   "cell_type": "code",
   "execution_count": 80,
   "id": "27273d78-f440-4a54-964c-49bb48503a6f",
   "metadata": {},
   "outputs": [
    {
     "data": {
      "image/png": "[encoded data removed]",
      "text/plain": [
       "<Figure size 600x600 with 1 Axes>"
      ]
     },
     "metadata": {},
     "output_type": "display_data"
    }
   ],
   "source": [
    "class_counts = combined_df.groupBy(\"Class\").count().toPandas()\n",
    "plt.figure(figsize=(6, 6))\n",
    "plt.pie(class_counts['count'], labels=class_counts['Class'], autopct='%1.1f%%', startangle=90, colors=['#66c2a5', '#fc8d62'])\n",
    "plt.title(\"Distribuição de Classes - oversampling (0 e 1)\")\n",
    "plt.show()"
   ]
  },
  {
   "cell_type": "markdown",
   "id": "0dbfd624-3ef9-4e8a-ae99-679ff170b75d",
   "metadata": {},
   "source": [
    "Técnica do oversampling conseguiu balancear os dados "
   ]
  },
  {
   "cell_type": "code",
   "execution_count": 81,
   "id": "6abb1780-d8bf-490e-b4fe-f29b090554e2",
   "metadata": {},
   "outputs": [
    {
     "name": "stdout",
     "output_type": "stream",
     "text": [
      "+--------------------+-----+\n",
      "|            features|Class|\n",
      "+--------------------+-----+\n",
      "|[0.0,-1.359807133...|    0|\n",
      "|[0.0,1.1918571113...|    0|\n",
      "|[1.0,-1.358354061...|    0|\n",
      "|[1.0,-0.966271711...|    0|\n",
      "|[2.0,-1.158233093...|    0|\n",
      "|[2.0,-0.425965884...|    0|\n",
      "|[4.0,1.2296576345...|    0|\n",
      "|[7.0,-0.644269442...|    0|\n",
      "|[7.0,-0.894286082...|    0|\n",
      "|[9.0,-0.338261752...|    0|\n",
      "|[10.0,1.449043781...|    0|\n",
      "|[10.0,0.384978215...|    0|\n",
      "|[10.0,1.249998742...|    0|\n",
      "|[11.0,1.069373587...|    0|\n",
      "|[12.0,-2.79185476...|    0|\n",
      "|[12.0,-0.75241704...|    0|\n",
      "|[12.0,1.103215435...|    0|\n",
      "|[13.0,-0.43690507...|    0|\n",
      "|[14.0,-5.40125766...|    0|\n",
      "|[15.0,1.492935976...|    0|\n",
      "+--------------------+-----+\n",
      "only showing top 20 rows\n",
      "\n"
     ]
    }
   ],
   "source": [
    "# aplicando o vector assembler na nova base oversampled\n",
    "assembler_over = VectorAssembler(inputCols=['Time', 'V1', 'V2', 'V3', 'V4', 'V5', 'V6', 'V7', 'V8', 'V9', 'V10', 'V11', 'V12', 'V13', 'V14', 'V15', 'V16', 'V17', 'V18', 'V19', 'V20', 'V21', 'V22', 'V23', 'V24', 'V25', 'V26', 'V27', 'V28', 'Amount'], outputCol='features')\n",
    "output_over = assembler_over.transform(combined_df)\n",
    "over_data = output_over.select('features', 'Class')\n",
    "over_data.show()"
   ]
  },
  {
   "cell_type": "code",
   "execution_count": 82,
   "id": "13e5f298-5e7a-4bee-ae58-bd32934ad1f6",
   "metadata": {},
   "outputs": [],
   "source": [
    "# separando em teste e treino \n",
    "train_over, test_over = over_data.randomSplit([0.7, 0.3])"
   ]
  },
  {
   "cell_type": "markdown",
   "id": "2bc300b6-faab-416b-8f65-8fa820dfd637",
   "metadata": {},
   "source": [
    "### Criação e treinamento dos modelos"
   ]
  },
  {
   "cell_type": "code",
   "execution_count": 83,
   "id": "a2e450a4-f4ab-40df-b5b0-36b5fd5c1395",
   "metadata": {},
   "outputs": [
    {
     "name": "stdout",
     "output_type": "stream",
     "text": [
      "+-------+-------------------+-------------------+\n",
      "|summary|              Class|         prediction|\n",
      "+-------+-------------------+-------------------+\n",
      "|  count|             398397|             398397|\n",
      "|   mean|0.49950928345343965|0.47176560064458317|\n",
      "| stddev| 0.5000003867128575| 0.4992028086944246|\n",
      "|    min|                0.0|                0.0|\n",
      "|    max|                1.0|                1.0|\n",
      "+-------+-------------------+-------------------+\n",
      "\n"
     ]
    }
   ],
   "source": [
    "# aplicando no modelo \n",
    "# usando logistic regression primeiro \n",
    "lr = LogisticRegression(labelCol='Class')\n",
    "\n",
    "# fit the model \n",
    "lr_fitted = lr.fit(train_over)\n",
    "lr_sum = lr_fitted.summary\n",
    "training_lr = lr_sum.predictions.describe().show()"
   ]
  },
  {
   "cell_type": "code",
   "execution_count": 84,
   "id": "3c7f07ec-810a-4fc9-b4a6-d93a454e44f4",
   "metadata": {},
   "outputs": [
    {
     "name": "stdout",
     "output_type": "stream",
     "text": [
      "+--------------------+-----+--------------------+--------------------+----------+\n",
      "|            features|Class|       rawPrediction|         probability|prediction|\n",
      "+--------------------+-----+--------------------+--------------------+----------+\n",
      "|[0.0,-1.359807133...|    0|[1.03664472610892...|[0.73820208508282...|       0.0|\n",
      "|[0.0,1.1918571113...|    0|[2.92396365821828...|[0.94901841230261...|       0.0|\n",
      "|[10.0,1.249998742...|    0|[3.68670938812913...|[0.97555806526637...|       0.0|\n",
      "|[12.0,-0.75241704...|    0|[3.54850501715010...|[0.97203681938985...|       0.0|\n",
      "|[14.0,-5.40125766...|    0|[-0.2866213094015...|[0.42883122693785...|       1.0|\n",
      "|[16.0,0.694884775...|    0|[2.60383915659384...|[0.93110825290897...|       0.0|\n",
      "|[22.0,-1.94652513...|    0|[5.30746819024917...|[0.99506997101638...|       0.0|\n",
      "|[24.0,1.237429030...|    0|[2.58324496372504...|[0.92977543846533...|       0.0|\n",
      "|[32.0,-2.00887179...|    0|[5.1177774125319,...|[0.99404633848339...|       0.0|\n",
      "|[35.0,1.199355933...|    0|[2.19171666544897...|[0.89950319464206...|       0.0|\n",
      "|[36.0,-1.16942245...|    0|[2.54230447970410...|[0.92705481858118...|       0.0|\n",
      "|[41.0,1.154312116...|    0|[2.64080102964705...|[0.93344174827803...|       0.0|\n",
      "|[44.0,-0.94889638...|    0|[-0.2107253063979...|[0.44751275516136...|       1.0|\n",
      "|[46.0,-0.37824463...|    0|[3.11654772177299...|[0.95757018509042...|       0.0|\n",
      "|[47.0,1.197838599...|    0|[2.85343567261802...|[0.94549600559474...|       0.0|\n",
      "|[49.0,-0.54962614...|    0|[2.07725249714901...|[0.88867250283794...|       0.0|\n",
      "|[49.0,1.098608346...|    0|[1.94678396629118...|[0.87509554244660...|       0.0|\n",
      "|[52.0,1.147368927...|    0|[1.61410629039981...|[0.83398071058560...|       0.0|\n",
      "|[55.0,-4.57509260...|    0|[0.10829799189202...|[0.52704806713582...|       0.0|\n",
      "|[59.0,-0.77329260...|    0|[2.17666482104172...|[0.89813434468384...|       0.0|\n",
      "+--------------------+-----+--------------------+--------------------+----------+\n",
      "only showing top 20 rows\n",
      "\n"
     ]
    }
   ],
   "source": [
    "results_over = lr_fitted.transform(test_over)\n",
    "results_over.show()"
   ]
  },
  {
   "cell_type": "code",
   "execution_count": 87,
   "id": "59577760-8550-417f-b86d-c220ace8da26",
   "metadata": {},
   "outputs": [],
   "source": [
    "# usando outros metodos de classificacao \n",
    " \n",
    "rfc = RandomForestClassifier(labelCol='Class', featuresCol='features', numTrees=100)\n",
    "dtc = DecisionTreeClassifier(labelCol='Class', featuresCol='features')\n",
    "gbt = GBTClassifier(labelCol='Class', featuresCol='features')\n"
   ]
  },
  {
   "cell_type": "code",
   "execution_count": 88,
   "id": "fa44def1-70cb-4554-bee0-579c962f6944",
   "metadata": {},
   "outputs": [],
   "source": [
    "# treinando os modelos \n",
    "\n",
    "rfc_train = rfc.fit(train_over)\n",
    "dtc_train = dtc.fit(train_over)\n",
    "gbt_train = gbt.fit(train_over)"
   ]
  },
  {
   "cell_type": "code",
   "execution_count": 89,
   "id": "07f39a50-f861-4d9c-96ca-4965e6dd4b64",
   "metadata": {},
   "outputs": [],
   "source": [
    "# previsoes \n",
    "\n",
    "rfc_preds = rfc_train.transform(test_over)\n",
    "dtc_preds = dtc_train.transform(test_over)\n",
    "gbt_preds = gbt_train.transform(test_over)"
   ]
  },
  {
   "cell_type": "code",
   "execution_count": 90,
   "id": "48ca3bf5-5160-4952-93f0-c5bf3ae64d6a",
   "metadata": {},
   "outputs": [
    {
     "name": "stdout",
     "output_type": "stream",
     "text": [
      "+--------------------+-----+--------------------+--------------------+----------+\n",
      "|            features|Class|       rawPrediction|         probability|prediction|\n",
      "+--------------------+-----+--------------------+--------------------+----------+\n",
      "|[0.0,-1.359807133...|    0|[92.3224948228627...|[0.92322494822862...|       0.0|\n",
      "|[0.0,1.1918571113...|    0|[92.9972826214687...|[0.92997282621468...|       0.0|\n",
      "|[10.0,1.249998742...|    0|[92.5882275878972...|[0.92588227587897...|       0.0|\n",
      "|[12.0,-0.75241704...|    0|[91.5350094305990...|[0.91535009430599...|       0.0|\n",
      "|[14.0,-5.40125766...|    0|[78.7570776382803...|[0.78757077638280...|       0.0|\n",
      "|[16.0,0.694884775...|    0|[92.6656203074111...|[0.92665620307411...|       0.0|\n",
      "|[22.0,-1.94652513...|    0|[91.9591018073105...|[0.91959101807310...|       0.0|\n",
      "|[24.0,1.237429030...|    0|[92.5334414914458...|[0.92533441491445...|       0.0|\n",
      "|[32.0,-2.00887179...|    0|[92.4941896119046...|[0.92494189611904...|       0.0|\n",
      "|[35.0,1.199355933...|    0|[92.3702637964906...|[0.92370263796490...|       0.0|\n",
      "|[36.0,-1.16942245...|    0|[92.0238754166113...|[0.92023875416611...|       0.0|\n",
      "|[41.0,1.154312116...|    0|[93.8211005244404...|[0.93821100524440...|       0.0|\n",
      "|[44.0,-0.94889638...|    0|[76.8988028856835...|[0.76898802885683...|       0.0|\n",
      "|[46.0,-0.37824463...|    0|[92.6061585709397...|[0.92606158570939...|       0.0|\n",
      "|[47.0,1.197838599...|    0|[92.9972826214687...|[0.92997282621468...|       0.0|\n",
      "|[49.0,-0.54962614...|    0|[92.8717886740023...|[0.92871788674002...|       0.0|\n",
      "|[49.0,1.098608346...|    0|[92.5334414914458...|[0.92533441491445...|       0.0|\n",
      "|[52.0,1.147368927...|    0|[92.4695318565232...|[0.92469531856523...|       0.0|\n",
      "|[55.0,-4.57509260...|    0|[87.8454578408568...|[0.87845457840856...|       0.0|\n",
      "|[59.0,-0.77329260...|    0|[91.3879738896640...|[0.91387973889664...|       0.0|\n",
      "+--------------------+-----+--------------------+--------------------+----------+\n",
      "only showing top 20 rows\n",
      "\n"
     ]
    }
   ],
   "source": [
    "rfc_preds.show()"
   ]
  },
  {
   "cell_type": "markdown",
   "id": "2d66851c-0110-458c-9ab7-00b5e8066a4d",
   "metadata": {},
   "source": [
    "### Avaliando métricas de cada modelo"
   ]
  },
  {
   "cell_type": "markdown",
   "id": "39def884-a3ab-4e86-a035-c52f49225d61",
   "metadata": {},
   "source": [
    "Logistic Regression"
   ]
  },
  {
   "cell_type": "code",
   "execution_count": 97,
   "id": "abd4cf0d-3264-4838-91f7-73ae50fce5f6",
   "metadata": {},
   "outputs": [
    {
     "name": "stdout",
     "output_type": "stream",
     "text": [
      "Acurácia LR: 0.9504069445589569\n",
      "Recall LR: 0.9773436488030052\n"
     ]
    }
   ],
   "source": [
    "eval = MulticlassClassificationEvaluator(labelCol='Class', predictionCol='prediction', metricName='accuracy')\n",
    "acc = eval.evaluate(results_over)\n",
    "print(f\"Acurácia LR: {acc}\")\n",
    "\n",
    "evaluator = MulticlassClassificationEvaluator(labelCol=\"Class\", predictionCol=\"prediction\", metricName=\"recallByLabel\")\n",
    "recall = evaluator.evaluate(results_over)\n",
    "print(f\"Recall LR: {recall}\")"
   ]
  },
  {
   "cell_type": "markdown",
   "id": "02a8f0a1-1bf0-4122-ba55-4e969d3d5d5a",
   "metadata": {},
   "source": [
    "Ranfom Forest"
   ]
  },
  {
   "cell_type": "code",
   "execution_count": 100,
   "id": "4bcda028-84fb-469b-9069-01078112bf26",
   "metadata": {},
   "outputs": [
    {
     "name": "stdout",
     "output_type": "stream",
     "text": [
      "Acurácia: 0.9530747576589204\n",
      "Recall: 0.9967616961646707\n"
     ]
    }
   ],
   "source": [
    "acc_rfc = eval.evaluate(rfc_preds)\n",
    "print(f'Acurácia: {acc_rfc}')\n",
    "\n",
    "evaluator = MulticlassClassificationEvaluator(labelCol=\"Class\", predictionCol=\"prediction\", metricName=\"recallByLabel\")\n",
    "recall_rfc = evaluator.evaluate(rfc_preds)\n",
    "print(f\"Recall: {recall_rfc}\")"
   ]
  },
  {
   "cell_type": "markdown",
   "id": "473c5fc6-a509-44f0-a385-4bab37ef33f2",
   "metadata": {},
   "source": [
    "Decision Tree"
   ]
  },
  {
   "cell_type": "code",
   "execution_count": 101,
   "id": "8b3376ff-c8de-4ea7-bafc-54127ad49af8",
   "metadata": {},
   "outputs": [
    {
     "name": "stdout",
     "output_type": "stream",
     "text": [
      "Acurácia: 0.9568202965807234\n",
      "Recall: 0.977991309570071\n"
     ]
    }
   ],
   "source": [
    "acc_dtc = eval.evaluate(dtc_preds)\n",
    "print(f'Acurácia: {acc_dtc}')\n",
    "\n",
    "evaluator = MulticlassClassificationEvaluator(labelCol=\"Class\", predictionCol=\"prediction\", metricName=\"recallByLabel\")\n",
    "recall_dtc = evaluator.evaluate(dtc_preds)\n",
    "print(f\"Recall: {recall_dtc}\")"
   ]
  },
  {
   "cell_type": "markdown",
   "id": "91b26a98-a4dd-4334-8bf2-ae8b9761134b",
   "metadata": {},
   "source": [
    "Gradient Boosting"
   ]
  },
  {
   "cell_type": "code",
   "execution_count": 104,
   "id": "1654b0ff-20e0-413e-bd40-afc7a9e33b33",
   "metadata": {},
   "outputs": [
    {
     "name": "stdout",
     "output_type": "stream",
     "text": [
      "Acurácia: 0.9855596518297782\n",
      "Recall: 0.9874000541679915\n"
     ]
    }
   ],
   "source": [
    "acc_gbt = eval.evaluate(gbt_preds)\n",
    "print(f'Acurácia: {acc_gbt}')\n",
    "\n",
    "evaluator = MulticlassClassificationEvaluator(labelCol=\"Class\", predictionCol=\"prediction\", metricName=\"recallByLabel\")\n",
    "recall_gbt = evaluator.evaluate(gbt_preds)\n",
    "print(f\"Recall: {recall_gbt}\")"
   ]
  },
  {
   "cell_type": "markdown",
   "id": "0d5e548e-8e59-4ae3-b9b7-41946237f703",
   "metadata": {},
   "source": [
    "Um recall alto pode indicar um overfitting, o que na técnica de oversampling pode acontecer, já que estou multiplicando dados já existentes."
   ]
  }
 ],
 "metadata": {
  "kernelspec": {
   "display_name": "Python 3 (ipykernel)",
   "language": "python",
   "name": "python3"
  },
  "language_info": {
   "codemirror_mode": {
    "name": "ipython",
    "version": 3
   },
   "file_extension": ".py",
   "mimetype": "text/x-python",
   "name": "python",
   "nbconvert_exporter": "python",
   "pygments_lexer": "ipython3",
   "version": "3.11.6"
  }
 },
 "nbformat": 4,
 "nbformat_minor": 5
}
